{
  "nbformat": 4,
  "nbformat_minor": 0,
  "metadata": {
    "colab": {
      "name": "ANN tugdualevilder.ipynb",
      "provenance": [],
      "collapsed_sections": []
    },
    "kernelspec": {
      "name": "python3",
      "display_name": "Python 3"
    },
    "language_info": {
      "name": "python"
    }
  },
  "cells": [
    {
      "cell_type": "code",
      "execution_count": null,
      "metadata": {
        "id": "JrHOLyZGJnGK"
      },
      "outputs": [],
      "source": [
        "#import libraries\n",
        "import numpy as np  #lib used to deal with numerical values\n",
        "import pandas as pd #used to operate csv files\n",
        "import seaborn as sns #used ffor plotting\n",
        "import matplotlib.pyplot as plt #used for plotting\n",
        "from sklearn import preprocessing \n",
        "from sklearn.model_selection import train_test_split #used to split data ffor training and testing\n",
        "from sklearn.linear_model import LinearRegression #imported for Regression"
      ]
    },
    {
      "cell_type": "code",
      "source": [
        "#Read CSV file\n",
        "col_names = ['day','time', 'insolation', 'diff temp', 'WindSpd_Avg', 'energy_use']\n",
        "dataset = pd.read_csv('/content/DataUNI.csv',names=col_names, header=None, dtype={'time':float})\n",
        "dataset"
      ],
      "metadata": {
        "colab": {
          "base_uri": "https://localhost:8080/",
          "height": 217
        },
        "id": "u6RXNauy2-os",
        "outputId": "c38d6b0e-ebce-445d-c466-077bc70d0cd4"
      },
      "execution_count": null,
      "outputs": [
        {
          "output_type": "error",
          "ename": "NameError",
          "evalue": "ignored",
          "traceback": [
            "\u001b[0;31m---------------------------------------------------------------------------\u001b[0m",
            "\u001b[0;31mNameError\u001b[0m                                 Traceback (most recent call last)",
            "\u001b[0;32m<ipython-input-1-296a92a9a170>\u001b[0m in \u001b[0;36m<module>\u001b[0;34m()\u001b[0m\n\u001b[1;32m      1\u001b[0m \u001b[0;31m#Read CSV file\u001b[0m\u001b[0;34m\u001b[0m\u001b[0;34m\u001b[0m\u001b[0;34m\u001b[0m\u001b[0m\n\u001b[1;32m      2\u001b[0m \u001b[0mcol_names\u001b[0m \u001b[0;34m=\u001b[0m \u001b[0;34m[\u001b[0m\u001b[0;34m'day'\u001b[0m\u001b[0;34m,\u001b[0m\u001b[0;34m'time'\u001b[0m\u001b[0;34m,\u001b[0m \u001b[0;34m'insolation'\u001b[0m\u001b[0;34m,\u001b[0m \u001b[0;34m'diff temp'\u001b[0m\u001b[0;34m,\u001b[0m \u001b[0;34m'WindSpd_Avg'\u001b[0m\u001b[0;34m,\u001b[0m \u001b[0;34m'energy_use'\u001b[0m\u001b[0;34m]\u001b[0m\u001b[0;34m\u001b[0m\u001b[0;34m\u001b[0m\u001b[0m\n\u001b[0;32m----> 3\u001b[0;31m \u001b[0mdataset\u001b[0m \u001b[0;34m=\u001b[0m \u001b[0mpd\u001b[0m\u001b[0;34m.\u001b[0m\u001b[0mread_csv\u001b[0m\u001b[0;34m(\u001b[0m\u001b[0;34m'/DataUNI.csv'\u001b[0m\u001b[0;34m,\u001b[0m\u001b[0mnames\u001b[0m\u001b[0;34m=\u001b[0m\u001b[0mcol_names\u001b[0m\u001b[0;34m,\u001b[0m \u001b[0mheader\u001b[0m\u001b[0;34m=\u001b[0m\u001b[0;32mNone\u001b[0m\u001b[0;34m,\u001b[0m \u001b[0mdtype\u001b[0m\u001b[0;34m=\u001b[0m\u001b[0;34m{\u001b[0m\u001b[0;34m'time'\u001b[0m\u001b[0;34m:\u001b[0m\u001b[0mfloat\u001b[0m\u001b[0;34m}\u001b[0m\u001b[0;34m)\u001b[0m\u001b[0;34m\u001b[0m\u001b[0;34m\u001b[0m\u001b[0m\n\u001b[0m\u001b[1;32m      4\u001b[0m \u001b[0mdataset\u001b[0m\u001b[0;34m\u001b[0m\u001b[0;34m\u001b[0m\u001b[0m\n",
            "\u001b[0;31mNameError\u001b[0m: name 'pd' is not defined"
          ]
        }
      ]
    },
    {
      "cell_type": "markdown",
      "source": [
        "Process the data for best fitting of the model"
      ],
      "metadata": {
        "id": "S8j5YzHO7BIE"
      }
    },
    {
      "cell_type": "code",
      "source": [
        "import csv\n",
        "x1=dataset['day']\n",
        "col11=[]\n",
        "for a in range(0,5185,15):\n",
        "  b = x1[a:a+5]\n",
        "  #print(a)\n",
        "  col1=b.mean()\n",
        "  col11.append(col1)\n",
        "print(col11)    "
      ],
      "metadata": {
        "id": "6jk_RPpSVROr",
        "colab": {
          "base_uri": "https://localhost:8080/"
        },
        "outputId": "61208d80-38c0-45ce-d0b6-3ffbc60f265f"
      },
      "execution_count": null,
      "outputs": [
        {
          "output_type": "stream",
          "name": "stdout",
          "text": [
            "[0.0, 0.0, 0.0, 0.0, 0.0, 0.0, 0.0, 0.0, 0.0, 0.0, 0.0, 0.0, 0.0, 0.0, 0.0, 0.0, 0.0, 0.0, 0.0, 0.4, 1.0, 1.0, 1.0, 1.0, 1.0, 1.0, 1.0, 1.0, 1.0, 1.0, 1.0, 1.0, 1.0, 1.0, 1.0, 1.0, 1.0, 1.0, 1.0, 2.0, 2.0, 2.0, 2.0, 2.0, 2.0, 2.0, 2.0, 2.0, 2.0, 2.0, 2.0, 2.0, 2.0, 2.0, 2.0, 2.0, 2.0, 2.0, 3.0, 3.0, 3.0, 3.0, 3.0, 3.0, 3.0, 3.0, 3.0, 3.0, 3.0, 3.0, 3.0, 3.0, 3.0, 3.0, 3.0, 3.0, 3.0, 4.0, 4.0, 4.0, 4.0, 4.0, 4.0, 4.0, 4.0, 4.0, 4.0, 4.0, 4.0, 4.0, 4.0, 4.0, 4.0, 4.0, 4.0, 4.0, 4.8, 5.0, 5.0, 5.0, 5.0, 5.0, 5.0, 5.0, 5.0, 5.0, 5.0, 5.0, 5.0, 5.0, 5.0, 5.0, 5.0, 5.0, 5.0, 5.2, 6.0, 6.0, 6.0, 6.0, 6.0, 6.0, 6.0, 6.0, 6.0, 6.0, 6.0, 6.0, 6.0, 6.0, 6.0, 6.0, 6.0, 6.0, 6.0, 0.0, 0.0, 0.0, 0.0, 0.0, 0.0, 0.0, 0.0, 0.0, 0.0, 0.0, 0.0, 0.0, 0.0, 0.0, 0.0, 0.0, 0.0, 0.0, 1.0, 1.0, 1.0, 1.0, 1.0, 1.0, 1.0, 1.0, 1.0, 1.0, 1.0, 1.0, 1.0, 1.0, 1.0, 1.0, 1.0, 1.0, 1.0, 2.0, 2.0, 2.0, 2.0, 2.0, 2.0, 2.0, 2.0, 2.0, 2.0, 2.0, 2.0, 2.0, 2.0, 2.0, 2.0, 2.0, 2.0, 2.0, 2.8, 3.0, 3.0, 3.0, 3.0, 3.0, 3.0, 3.0, 3.0, 3.0, 3.0, 3.0, 3.0, 3.0, 3.0, 3.0, 3.0, 3.0, 3.0, 3.2, 4.0, 4.0, 4.0, 4.0, 4.0, 4.0, 4.0, 4.0, 4.0, 4.0, 4.0, 4.0, 4.0, 4.0, 4.0, 4.0, 4.0, 4.0, 4.0, 5.0, 5.0, 5.0, 5.0, 5.0, 5.0, 5.0, 5.0, 5.0, 5.0, 5.0, 5.0, 5.0, 5.0, 5.0, 5.0, 5.0, 5.0, 5.0, 6.0, 6.0, 6.0, 6.0, 6.0, 6.0, 6.0, 6.0, 6.0, 6.0, 6.0, 6.0, 6.0, 6.0, 6.0, 6.0, 6.0, 6.0, 6.0, 0.0, 0.0, 0.0, 0.0, 0.0, 0.0, 0.0, 0.0, 0.0, 0.0, 0.0, 0.0, 0.0, 0.0, 0.0, 0.0, 0.0, 0.0, 0.0, 0.6, 1.0, 1.0, 1.0, 1.0, 1.0, 1.0, 1.0, 1.0, 1.0, 1.0, 1.0, 1.0, 1.0, 1.0, 1.0, 1.0, 1.0, 1.0, 1.0, 2.0, 2.0, 2.0, 2.0, 2.0, 2.0, 2.0, 2.0, 2.0, 2.0, 2.0, 2.0, 2.0, 2.0, 2.0, 2.0, 2.0, 2.0, 2.0, 3.0, 3.0, 3.0, 3.0, 3.0, 3.0, 3.0, 3.0, 3.0, 3.0, 3.0, 3.0, 3.0, 3.0, 3.0, 3.0, 3.0, 3.0, 3.0]\n"
          ]
        }
      ]
    },
    {
      "cell_type": "code",
      "source": [
        "x2=dataset['time']\n",
        "col21=[]\n",
        "for a2 in range(0,5185,15):\n",
        "  b2 = x2[a2:a2+5]\n",
        "  #print(a)\n",
        "  col2=b2.mean()\n",
        "  col21.append(col2)\n",
        "print(col21)"
      ],
      "metadata": {
        "colab": {
          "base_uri": "https://localhost:8080/"
        },
        "id": "4L167KnGpcyE",
        "outputId": "2089a9d1-aced-4df9-cdbe-e08ef5eb5f8b"
      },
      "execution_count": null,
      "outputs": [
        {
          "output_type": "stream",
          "name": "stdout",
          "text": [
            "[10.0, 85.0, 160.0, 235.0, 310.0, 385.0, 460.0, 535.0, 610.0, 685.0, 760.0, 835.0, 910.0, 985.0, 1060.0, 1135.0, 1210.0, 1285.0, 1360.0, 859.0, 70.0, 145.0, 220.0, 295.0, 370.0, 445.0, 520.0, 595.0, 670.0, 745.0, 820.0, 895.0, 970.0, 1045.0, 1120.0, 1195.0, 1270.0, 1345.0, 1420.0, 55.0, 130.0, 205.0, 280.0, 355.0, 430.0, 505.0, 580.0, 655.0, 730.0, 805.0, 880.0, 955.0, 1030.0, 1105.0, 1180.0, 1255.0, 1330.0, 1405.0, 40.0, 115.0, 190.0, 265.0, 340.0, 415.0, 490.0, 565.0, 640.0, 715.0, 790.0, 865.0, 940.0, 1015.0, 1090.0, 1165.0, 1240.0, 1315.0, 1390.0, 25.0, 100.0, 175.0, 250.0, 325.0, 400.0, 475.0, 550.0, 625.0, 700.0, 775.0, 850.0, 925.0, 1000.0, 1075.0, 1150.0, 1225.0, 1300.0, 1375.0, 10.0, 85.0, 160.0, 235.0, 310.0, 385.0, 460.0, 535.0, 610.0, 685.0, 760.0, 835.0, 910.0, 985.0, 1060.0, 1135.0, 1210.0, 1285.0, 1360.0, 859.0, 70.0, 145.0, 220.0, 295.0, 370.0, 445.0, 520.0, 595.0, 670.0, 745.0, 820.0, 895.0, 970.0, 1045.0, 1120.0, 1195.0, 1270.0, 1345.0, 1420.0, 50.0, 125.0, 200.0, 275.0, 350.0, 425.0, 500.0, 575.0, 650.0, 725.0, 800.0, 875.0, 950.0, 1025.0, 1100.0, 1175.0, 1250.0, 1325.0, 1400.0, 35.0, 110.0, 185.0, 260.0, 335.0, 410.0, 485.0, 560.0, 635.0, 710.0, 785.0, 860.0, 935.0, 1010.0, 1085.0, 1160.0, 1235.0, 1310.0, 1385.0, 20.0, 95.0, 170.0, 245.0, 320.0, 395.0, 470.0, 545.0, 620.0, 695.0, 770.0, 845.0, 920.0, 995.0, 1070.0, 1145.0, 1220.0, 1295.0, 1370.0, 293.0, 80.0, 155.0, 230.0, 305.0, 380.0, 455.0, 530.0, 605.0, 680.0, 755.0, 830.0, 905.0, 980.0, 1055.0, 1130.0, 1205.0, 1280.0, 1355.0, 1142.0, 65.0, 140.0, 215.0, 290.0, 365.0, 440.0, 515.0, 590.0, 665.0, 740.0, 815.0, 890.0, 965.0, 1040.0, 1115.0, 1190.0, 1265.0, 1340.0, 1415.0, 50.0, 125.0, 200.0, 275.0, 350.0, 425.0, 500.0, 575.0, 650.0, 725.0, 800.0, 875.0, 950.0, 1025.0, 1100.0, 1175.0, 1250.0, 1325.0, 1400.0, 35.0, 110.0, 185.0, 260.0, 335.0, 410.0, 485.0, 560.0, 635.0, 710.0, 785.0, 860.0, 935.0, 1010.0, 1085.0, 1160.0, 1235.0, 1310.0, 1385.0, 20.0, 95.0, 170.0, 245.0, 320.0, 395.0, 470.0, 545.0, 620.0, 695.0, 770.0, 845.0, 920.0, 995.0, 1070.0, 1145.0, 1220.0, 1295.0, 1370.0, 293.0, 80.0, 155.0, 230.0, 305.0, 380.0, 455.0, 530.0, 605.0, 680.0, 755.0, 830.0, 905.0, 980.0, 1055.0, 1130.0, 1205.0, 1280.0, 1355.0, 1142.0, 65.0, 140.0, 215.0, 290.0, 365.0, 440.0, 515.0, 590.0, 665.0, 740.0, 815.0, 890.0, 965.0, 1040.0, 1115.0, 1190.0, 1265.0, 1340.0, 1415.0, 45.0, 120.0, 195.0, 270.0, 345.0, 420.0, 495.0, 570.0, 645.0, 720.0, 795.0, 870.0, 945.0, 1020.0, 1095.0, 1170.0, 1245.0, 1320.0, 1395.0]\n"
          ]
        }
      ]
    },
    {
      "cell_type": "code",
      "source": [
        "x3=dataset['insolation']\n",
        "col31=[]\n",
        "# x2.head(100)\n",
        "for a3 in range(0,5185,15):\n",
        "  b3 = x3[a3:a3+5]\n",
        "  #print(a)\n",
        "  col3=b3.mean()\n",
        "  col31.append(col3)\n",
        "print(col31)\n",
        "plt.plot(col31)"
      ],
      "metadata": {
        "id": "BORa6rTtqJP8",
        "colab": {
          "base_uri": "https://localhost:8080/",
          "height": 320
        },
        "outputId": "be981997-7a9a-4d47-cf09-3e09053c2b07"
      },
      "execution_count": null,
      "outputs": [
        {
          "output_type": "stream",
          "name": "stdout",
          "text": [
            "[0.0, 0.0, 0.0, 0.0, 0.0, 0.0, 57.660000000000004, 262.06, 395.52, 497.21999999999997, 506.86, 453.98, 349.38, 120.52000000000001, 17.28, 0.0, 0.0, 0.0, 0.0, 0.0, 0.0, 0.0, 0.0, 0.0, 0.0, 30.403999999999996, 202.56, 387.53999999999996, 482.0200000000001, 515.52, 467.58000000000004, 373.64, 182.07999999999998, 25.866000000000003, 0.0, 0.0, 0.0, 0.0, 0.0, 0.0, 0.0, 0.0, 0.0, 0.0, 9.084, 161.18, 261.54, 167.42, 218.77999999999997, 392.4, 236.22000000000003, 243.78000000000003, 36.106, 0.0, 0.0, 0.0, 0.0, 0.0, 0.0, 0.0, 0.0, 0.0, 0.0, 0.0, 87.31199999999998, 434.82, 217.34, 532.42, 545.48, 252.0, 181.42000000000002, 49.984, 0.0, 0.0, 0.0, 0.0, 0.0, 0.0, 0.0, 0.0, 0.0, 0.0, 0.0, 36.071999999999996, 289.68, 520.52, 322.22, 435.84, 444.26000000000005, 365.26000000000005, 92.83600000000001, 2.226, 0.0, 0.0, 0.0, 0.0, 0.0, 0.0, 0.0, 0.0, 0.0, 0.0, 27.184000000000005, 58.903999999999996, 66.06199999999998, 78.93400000000001, 86.34599999999999, 114.44000000000001, 133.52, 42.391999999999996, 0.0, 0.0, 0.0, 0.0, 0.0, 0.0, 0.0, 0.0, 0.0, 0.0, 0.0, 10.318000000000001, 47.952, 65.422, 88.94, 73.52000000000001, 79.352, 148.14000000000001, 72.178, 18.279999999999998, 0.0, 0.0, 0.0, 0.0, 0.0, 0.0, 0.0, 0.0, 0.0, 0.0, 12.234, 57.45, 114.4, 197.61999999999998, 303.5, 254.85999999999999, 181.06, 62.662, 17.907999999999998, 0.0, 0.0, 0.0, 0.0, 0.0, 0.0, 0.0, 0.0, 0.0, 0.0, 2.072, 34.668, 94.784, 309.71999999999997, 227.68, 217.48000000000002, 216.34, 458.21999999999997, 116.3, 0.0, 0.0, 0.0, 0.0, 0.0, 0.0, 0.0, 0.0, 0.0, 0.0, 0.0, 43.577999999999996, 310.48, 154.5, 136.9, 305.52, 103.16400000000002, 43.458, 22.174, 0.0, 0.0, 0.0, 0.0, 0.0, 0.0, 0.0, 0.0, 0.0, 0.0, 0.0, 73.00399999999999, 129.24, 202.66000000000003, 397.14, 404.52, 216.42, 365.06, 116.56000000000002, 21.776000000000003, 0.0, 0.0, 0.0, 0.0, 0.0, 0.0, 0.0, 0.0, 0.0, 0.0, 57.888, 170.98, 428.56000000000006, 384.52, 635.8399999999999, 530.3599999999999, 503.85999999999996, 150.66, 53.334, 0.0, 0.0, 0.0, 0.0, 0.0, 0.0, 0.0, 0.0, 0.0, 0.0, 36.968, 105.31999999999998, 286.88, 304.52, 499.43999999999994, 283.65999999999997, 473.26000000000005, 295.06, 33.172000000000004, 0.0, 0.0, 0.0, 0.0, 0.0, 0.0, 0.0, 0.0, 0.0, 0.0, 5.516, 88.812, 147.54000000000002, 242.71999999999997, 107.68000000000002, 97.05999999999999, 69.446, 35.39, 27.282, 0.0, 0.0, 0.0, 0.0, 0.0, 0.0, 0.0, 0.0, 0.0, 0.0, 2.324, 49.002, 152.45999999999998, 185.14, 115.78, 219.35999999999999, 80.314, 140.66, 133.71999999999997, 12.384, 0.0, 0.0, 0.0, 0.0, 0.0, 0.0, 0.0, 0.0, 0.0, 0.0, 50.038, 169.2, 282.2, 450.94000000000005, 407.08000000000004, 113.5, 128.0, 11.264000000000001, 8.182, 0.0, 0.0, 0.0, 0.0, 0.0, 0.0, 0.0, 0.0, 0.0, 0.0, 2.004, 58.141999999999996, 95.39399999999998, 146.04000000000002, 80.96799999999999, 103.476, 117.35999999999999, 25.802, 13.088, 0.0, 0.0, 0.0, 0.0, 0.0, 0.0, 0.0, 0.0, 0.0, 0.0, 17.122000000000003, 39.974000000000004, 165.4, 120.47999999999999, 432.2200000000001, 372.36, 540.8, 320.92, 115.2, 0.0, 0.0, 0.0, 0.0, 0.0]\n"
          ]
        },
        {
          "output_type": "execute_result",
          "data": {
            "text/plain": [
              "[<matplotlib.lines.Line2D at 0x7fa5b481b450>]"
            ]
          },
          "metadata": {},
          "execution_count": 9
        },
        {
          "output_type": "display_data",
          "data": {
            "text/plain": [
              "<Figure size 432x288 with 1 Axes>"
            ],
            "image/png": "[encoded data removed]"
          },
          "metadata": {
            "needs_background": "light"
          }
        }
      ]
    },
    {
      "cell_type": "code",
      "source": [
        "x4=dataset['diff temp']\n",
        "col41=[]\n",
        "# x2.head(100)\n",
        "for a4 in range(0,5185,15):\n",
        "  b4 = x4[a4:a4+5]\n",
        "  #print(a)\n",
        "  col4=b4.mean()\n",
        "  col41.append(col4)\n",
        "print(col41)\n",
        "len(col41)\n",
        "#plt.plot(col41)"
      ],
      "metadata": {
        "colab": {
          "base_uri": "https://localhost:8080/"
        },
        "id": "Xidi8nesqYL5",
        "outputId": "ab636ee2-9aa3-4907-fa3e-53f43e9dce67"
      },
      "execution_count": null,
      "outputs": [
        {
          "output_type": "stream",
          "name": "stdout",
          "text": [
            "[26.024, 26.572000000000003, 27.326, 27.887999999999998, 27.375999999999998, 27.502, 28.080000000000002, 27.341999999999995, 25.708, 24.014000000000003, 22.304000000000002, 21.288000000000004, 20.448, 20.4, 22.804000000000002, 24.062, 24.546, 25.119999999999997, 25.43, 26.254, 25.982000000000006, 26.389999999999997, 26.907999999999998, 27.2, 27.488, 27.594, 26.897999999999996, 24.872, 23.362000000000002, 22.424, 21.398, 21.052, 21.351999999999997, 23.352, 25.232, 25.77, 26.829999999999995, 27.643999999999995, 28.089999999999996, 28.232, 28.435999999999996, 28.712, 28.194, 28.442, 28.348000000000003, 27.353999999999996, 26.451999999999998, 26.312, 25.395999999999997, 24.804000000000002, 24.976, 24.668, 25.782, 26.891999999999996, 27.5, 28.083999999999996, 28.042, 28.177999999999997, 28.576, 29.016000000000002, 29.612000000000002, 29.396000000000004, 29.657999999999998, 29.834000000000003, 29.071999999999996, 27.466, 26.471999999999998, 25.252, 25.722, 25.134, 25.85, 28.131999999999998, 29.006, 29.524, 30.618000000000002, 29.93, 30.953999999999997, 30.588, 30.259999999999998, 30.32, 30.374000000000002, 29.766000000000002, 30.183999999999997, 30.036, 29.084000000000003, 27.816000000000003, 27.494, 26.986, 27.554000000000002, 27.409999999999997, 28.768, 29.946000000000005, 30.536, 31.586000000000002, 31.998, 31.471999999999998, 31.327999999999996, 31.27, 31.227999999999998, 31.088, 30.912, 30.915999999999997, 30.836000000000002, 30.696000000000005, 30.442, 29.986, 29.477999999999998, 29.127999999999997, 28.913999999999998, 28.612000000000002, 28.526, 28.45, 28.145999999999997, 27.906, 27.670000000000005, 27.418, 27.406, 27.347999999999995, 27.682, 28.131999999999994, 28.101999999999997, 27.992, 27.596000000000004, 27.422000000000004, 27.528, 27.369999999999997, 27.406, 27.503999999999998, 27.5, 27.504, 27.6, 27.509999999999998, 27.204, 26.9, 26.302, 25.886000000000003, 25.544, 25.287999999999997, 25.077999999999996, 24.86, 24.806, 24.592, 24.328, 23.875999999999998, 22.619999999999997, 22.055999999999997, 22.056, 22.528, 23.130000000000003, 24.038000000000004, 24.564, 24.73, 24.358, 23.871999999999996, 23.436, 22.706, 21.914, 21.302, 21.076, 20.5, 20.336000000000002, 20.118000000000002, 18.444000000000003, 17.646, 16.976, 17.188, 17.224, 17.928, 19.991999999999997, 21.16, 20.812, 20.664, 20.75, 20.668, 20.596, 20.666000000000004, 20.716, 20.823999999999998, 20.276000000000003, 20.69, 18.838, 19.116, 18.33, 17.122, 17.63, 18.808, 19.438, 19.662, 19.497999999999998, 18.976, 18.826, 18.998, 19.836000000000002, 20.55, 20.91, 21.024, 21.113999999999997, 21.528, 21.06, 20.3, 19.740000000000002, 18.672000000000004, 17.624000000000002, 17.278, 16.45, 17.386000000000003, 19.094, 21.562, 21.376, 23.736, 23.958, 21.314, 23.035999999999998, 23.748, 23.558, 23.68, 23.986, 23.81, 21.488, 19.892, 17.791999999999998, 16.854000000000003, 16.714000000000002, 16.815999999999995, 17.844, 18.880000000000003, 22.352, 21.712000000000003, 21.772, 21.24, 21.49, 21.375999999999998, 20.886000000000003, 20.602, 21.128, 22.076, 22.456, 21.868000000000002, 20.502000000000002, 19.542, 18.214000000000002, 17.910000000000004, 16.782000000000004, 16.912, 17.82, 18.933999999999997, 19.812, 19.608, 20.554, 21.134, 21.815999999999995, 23.344, 23.714000000000002, 23.857999999999997, 24.858, 23.07, 22.094, 20.038, 18.663999999999998, 17.912000000000003, 18.073999999999998, 18.742, 18.502000000000002, 18.054, 18.136, 17.746000000000002, 16.631999999999998, 15.719999999999999, 15.097999999999999, 15.224, 15.254, 15.262, 15.451999999999998, 15.829999999999998, 15.702000000000002, 15.452000000000002, 14.752, 14.453999999999999, 14.1, 13.687999999999999, 13.632, 13.622, 13.732, 15.536000000000001, 17.106, 17.21, 17.874000000000002, 19.240000000000002, 22.224, 20.972, 21.332, 19.212, 18.492, 18.195999999999998, 18.01, 16.836, 15.55, 13.836000000000002, 13.581999999999999, 14.088, 14.895999999999997, 15.084, 16.294, 16.838, 17.264, 17.436, 17.194, 17.306, 17.22, 17.529999999999998, 17.558, 17.642000000000003, 17.758000000000003, 17.73, 17.828000000000003, 17.27, 16.808, 16.633999999999997, 17.188, 17.462, 17.97, 17.928, 18.582, 18.786, 19.412, 19.732, 19.74, 19.916000000000004, 19.562, 20.609999999999996, 22.083999999999996, 23.606, 21.812, 20.214, 18.101999999999997, 17.708000000000002, 16.222, 15.518, 14.589999999999998, 14.876, 15.569999999999999, 20.148000000000003, 22.154, 20.451999999999998, 22.258, 23.330000000000002]\n"
          ]
        },
        {
          "output_type": "execute_result",
          "data": {
            "text/plain": [
              "346"
            ]
          },
          "metadata": {},
          "execution_count": 10
        }
      ]
    },
    {
      "cell_type": "code",
      "source": [
        "x5=dataset['energy_use']\n",
        "col51=[]\n",
        "# x2.head(100)\n",
        "for a5 in range(0,5185,15):\n",
        "  b5 = x5[a5:a5+5]\n",
        "  #print(a)\n",
        "  col5=b5.mean()\n",
        "  col51.append(col5)\n",
        "print(col51)\n",
        "len(col51)\n",
        "#plt.plot(col51)"
      ],
      "metadata": {
        "colab": {
          "base_uri": "https://localhost:8080/"
        },
        "id": "JfxUDGccIi5x",
        "outputId": "18d17a3a-063a-4742-833a-721e49826a1e"
      },
      "execution_count": null,
      "outputs": [
        {
          "output_type": "stream",
          "name": "stdout",
          "text": [
            "[34.96, 28.0, 42.379999999999995, 22.459999999999997, 42.040000000000006, 33.1, 27.619999999999997, 44.74, 37.2, 25.720000000000006, 44.92, 30.379999999999995, 33.86, 30.18, 37.64, 20.96, 38.260000000000005, 29.72, 29.28, 34.32, 26.7, 35.92, 31.979999999999997, 29.18, 42.739999999999995, 22.660000000000004, 38.04, 42.78, 23.02, 38.56, 32.68, 31.72, 28.639999999999997, 38.760000000000005, 20.839999999999996, 32.38, 35.66, 21.360000000000003, 36.2, 28.18, 31.8, 31.0, 40.980000000000004, 21.94, 41.6, 39.239999999999995, 22.18, 36.49999999999999, 44.14, 27.439999999999998, 31.839999999999996, 45.760000000000005, 27.740000000000002, 35.42, 42.879999999999995, 23.18, 38.64, 43.06, 28.78, 29.9, 43.28, 46.019999999999996, 34.42, 24.68, 30.32, 39.760000000000005, 46.21999999999999, 45.0, 45.660000000000004, 39.81999999999999, 29.98, 27.339999999999996, 44.54, 39.339999999999996, 25.660000000000004, 33.339999999999996, 44.82, 41.86, 30.4, 26.459999999999997, 35.72, 44.38, 45.120000000000005, 45.49999999999999, 45.620000000000005, 42.16, 39.9, 38.0, 33.04, 23.84, 31.78, 41.6, 44.67999999999999, 30.839999999999996, 26.380000000000003, 37.06, 46.14, 45.98, 45.58, 43.62, 43.580000000000005, 42.239999999999995, 42.260000000000005, 43.36, 46.48, 48.0, 46.519999999999996, 39.879999999999995, 32.419999999999995, 32.2, 37.72, 47.040000000000006, 47.14, 48.08, 38.480000000000004, 32.739999999999995, 36.3, 46.739999999999995, 47.38, 44.480000000000004, 36.08, 32.16, 35.1, 46.22, 48.879999999999995, 43.6, 34.3, 32.46, 35.519999999999996, 41.2, 46.4, 47.1, 42.82, 37.279999999999994, 32.379999999999995, 35.220000000000006, 44.22, 47.400000000000006, 47.6, 46.0, 43.68, 36.959999999999994, 32.32, 31.799999999999994, 32.480000000000004, 38.12, 42.62, 46.5, 46.019999999999996, 45.0, 43.480000000000004, 45.24, 45.34, 44.279999999999994, 40.480000000000004, 34.9, 33.58, 29.76, 28.080000000000002, 28.080000000000002, 27.340000000000003, 30.18, 31.520000000000003, 31.48, 33.480000000000004, 37.96, 43.46, 45.12, 36.92, 22.9, 35.86, 44.36, 35.1, 22.919999999999998, 36.019999999999996, 44.46, 42.6, 32.980000000000004, 24.26, 32.760000000000005, 42.760000000000005, 44.6, 35.18, 22.26, 35.3, 44.0, 33.78, 25.34, 39.599999999999994, 39.04, 21.439999999999998, 36.24, 43.480000000000004, 27.339999999999996, 29.839999999999996, 43.98, 35.32, 21.919999999999998, 37.66, 44.480000000000004, 30.639999999999997, 26.540000000000003, 41.480000000000004, 39.9, 22.24, 38.9, 31.2, 27.839999999999996, 42.0, 21.54, 42.220000000000006, 22.580000000000002, 39.1, 31.160000000000004, 28.139999999999997, 42.0, 21.44, 42.02, 31.560000000000002, 25.880000000000003, 43.86, 22.240000000000002, 39.019999999999996, 24.96, 39.08, 20.32, 38.339999999999996, 27.380000000000003, 21.14, 42.019999999999996, 24.419999999999998, 28.8, 35.1, 25.32, 37.239999999999995, 28.060000000000002, 32.08, 38.96, 23.04, 42.7, 25.640000000000004, 35.379999999999995, 29.78, 36.239999999999995, 20.759999999999998, 40.92, 26.3, 25.560000000000002, 41.5, 20.34, 34.52, 31.2, 28.080000000000002, 35.50000000000001, 24.660000000000004, 38.58, 29.24, 34.68, 36.160000000000004, 24.96, 43.6, 23.660000000000004, 39.0, 31.6, 31.96, 39.12, 21.66, 43.32, 21.54, 42.760000000000005, 23.119999999999997, 39.980000000000004, 25.34, 37.980000000000004, 26.5, 37.42, 26.159999999999997, 37.6, 23.139999999999997, 40.519999999999996, 20.7, 42.32000000000001, 20.84, 34.7, 31.879999999999995, 23.5, 40.82, 20.8, 32.44, 34.88000000000001, 20.8, 41.620000000000005, 21.18, 41.7, 21.580000000000002, 42.52, 20.520000000000003, 41.58, 21.06, 38.64, 31.22, 20.5, 33.019999999999996, 36.42, 19.92, 34.379999999999995, 33.6, 20.5, 36.42, 30.880000000000006, 22.54, 40.6, 20.78, 36.46, 29.080000000000002, 25.28, 41.0, 21.0, 33.04, 35.88, 20.979999999999997, 39.0, 27.860000000000003, 22.72, 42.04, 20.639999999999997, 35.52, 31.580000000000002, 24.02, 42.02, 21.060000000000002, 41.28000000000001, 23.82, 36.58, 28.2, 33.96, 31.9, 29.76, 36.6, 20.979999999999997, 35.42, 36.260000000000005, 20.240000000000002, 19.6, 34.16, 35.18]\n"
          ]
        },
        {
          "output_type": "execute_result",
          "data": {
            "text/plain": [
              "346"
            ]
          },
          "metadata": {},
          "execution_count": 11
        }
      ]
    },
    {
      "cell_type": "code",
      "source": [
        "X=[col11,col21,col31,col41] #added all the data input colums\n",
        "X1= np.array(X) #converted input to array format to use numpy for splitting\n",
        "X2=X1.transpose(1,0) #transpose the input\n",
        "col5_array=np.array(col51)\n",
        "type(col5_array)\n",
        "y=col5_array #colum 5 / energy colum is stored in output"
      ],
      "metadata": {
        "id": "2ZoNywmXJ9aU"
      },
      "execution_count": null,
      "outputs": []
    },
    {
      "cell_type": "code",
      "source": [
        "X2.shape, y.shape "
      ],
      "metadata": {
        "colab": {
          "base_uri": "https://localhost:8080/"
        },
        "id": "qV5gWnbLK-hc",
        "outputId": "61229ef6-2e8f-44be-9757-f15b9105e703"
      },
      "execution_count": null,
      "outputs": [
        {
          "output_type": "execute_result",
          "data": {
            "text/plain": [
              "((346, 4), (346,))"
            ]
          },
          "metadata": {},
          "execution_count": 13
        }
      ]
    },
    {
      "cell_type": "markdown",
      "source": [
        "Model Fitting"
      ],
      "metadata": {
        "id": "o4Run0VE7qTk"
      }
    },
    {
      "cell_type": "code",
      "source": [
        "# Dropping any rows with Nan values\n",
        "X_train, X_test, y_train, y_test = train_test_split(X2, y, test_size = 0.25)\n",
        "  \n",
        "# Splitting the data into training and testing data\n",
        "regr = LinearRegression()\n",
        "  \n",
        "regr.fit(X_train, y_train)\n",
        "regr.score(X_test, y_test)"
      ],
      "metadata": {
        "id": "br84LXF_KqE-",
        "colab": {
          "base_uri": "https://localhost:8080/"
        },
        "outputId": "e5a091f7-0d2e-4e73-e6ad-0ff21be38fe1"
      },
      "execution_count": null,
      "outputs": [
        {
          "output_type": "execute_result",
          "data": {
            "text/plain": [
              "0.06242413623314469"
            ]
          },
          "metadata": {},
          "execution_count": 14
        }
      ]
    },
    {
      "cell_type": "code",
      "source": [
        "X_train.shape, y_train.shape,X_test.shape,y_test.shape"
      ],
      "metadata": {
        "id": "5iblB399MIQQ",
        "colab": {
          "base_uri": "https://localhost:8080/"
        },
        "outputId": "f6a353cd-f9b8-4657-9e91-be8328844482"
      },
      "execution_count": null,
      "outputs": [
        {
          "output_type": "execute_result",
          "data": {
            "text/plain": [
              "((259, 4), (259,), (87, 4), (87,))"
            ]
          },
          "metadata": {},
          "execution_count": 15
        }
      ]
    },
    {
      "cell_type": "code",
      "source": [
        "y_pred = regr.predict(X_test) #predict values"
      ],
      "metadata": {
        "id": "vh6KFZYKMA9a"
      },
      "execution_count": null,
      "outputs": []
    },
    {
      "cell_type": "markdown",
      "source": [
        "Find MAE and MAPE"
      ],
      "metadata": {
        "id": "YQhWMZUv7yKZ"
      }
    },
    {
      "cell_type": "code",
      "source": [
        "df = pd.DataFrame({'Actual': y_test, 'Predicted': y_pred})\n",
        "actual=df['Actual']\n",
        "pred=df['Predicted']\n",
        "from sklearn.metrics import mean_absolute_error as mae\n",
        "mae(actual,pred)"
      ],
      "metadata": {
        "colab": {
          "base_uri": "https://localhost:8080/"
        },
        "id": "mP37ZcFZX9Ct",
        "outputId": "ba1af3c2-e035-43f7-dbb3-594d9bf05e71"
      },
      "execution_count": null,
      "outputs": [
        {
          "output_type": "execute_result",
          "data": {
            "text/plain": [
              "7.216482033591264"
            ]
          },
          "metadata": {},
          "execution_count": 17
        }
      ]
    },
    {
      "cell_type": "code",
      "source": [
        "import numpy as np\n",
        "\n",
        "def mape(actual, pred): \n",
        "    actual, pred = np.array(actual), np.array(pred)\n",
        "    return np.mean(np.abs((actual - pred) / actual)) * 100\n",
        "mape(actual,pred)"
      ],
      "metadata": {
        "colab": {
          "base_uri": "https://localhost:8080/"
        },
        "id": "4I5sduMR2JUL",
        "outputId": "e6b531ef-f77f-4e4e-9330-49f51351c9d1"
      },
      "execution_count": null,
      "outputs": [
        {
          "output_type": "execute_result",
          "data": {
            "text/plain": [
              "22.9620662684604"
            ]
          },
          "metadata": {},
          "execution_count": 18
        }
      ]
    },
    {
      "cell_type": "code",
      "source": [
        "# Computing the absolute percent error\n",
        "APE=100*(abs(actual-pred)/actual)\n",
        "actual=APE\n",
        "\n",
        "print('The Accuracy of ANN model is:', 100-np.mean(APE))\n",
        "actual.head()"
      ],
      "metadata": {
        "colab": {
          "base_uri": "https://localhost:8080/"
        },
        "id": "LZVSsUijP-fu",
        "outputId": "a3584169-f26d-4553-fab9-92cb5d0b5382"
      },
      "execution_count": null,
      "outputs": [
        {
          "output_type": "stream",
          "name": "stdout",
          "text": [
            "The Accuracy of ANN model is: 77.0379337315396\n"
          ]
        },
        {
          "output_type": "execute_result",
          "data": {
            "text/plain": [
              "0    10.725462\n",
              "1    20.004895\n",
              "2    23.711695\n",
              "3    18.073547\n",
              "4     8.419966\n",
              "dtype: float64"
            ]
          },
          "metadata": {},
          "execution_count": 19
        }
      ]
    },
    {
      "cell_type": "code",
      "source": [
        ""
      ],
      "metadata": {
        "id": "mDiDNSvEtXKa"
      },
      "execution_count": null,
      "outputs": []
    },
    {
      "cell_type": "code",
      "source": [
        ""
      ],
      "metadata": {
        "id": "euzYHa3ctZ7d"
      },
      "execution_count": null,
      "outputs": []
    }
  ]
}